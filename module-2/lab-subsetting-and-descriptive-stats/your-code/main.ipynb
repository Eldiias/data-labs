{
 "cells": [
  {
   "cell_type": "markdown",
   "metadata": {},
   "source": [
    "# Before you start :\n",
    "   - These exercises are related to the Subsetting and Descriptive Stats lessons.\n",
    "   - Keep in mind that you need to use some of the functions you learned in the previous lessons.\n",
    "   - All datasets are provided in the `your-code` folder of this lab.\n",
    "   - Elaborate your codes and outputs as much as you can.\n",
    "   - Try your best to answer the questions and complete the tasks and most importantly enjoy the process!!!"
   ]
  },
  {
   "cell_type": "markdown",
   "metadata": {},
   "source": [
    "#### Import all the libraries that are necessary"
   ]
  },
  {
   "cell_type": "code",
   "execution_count": 46,
   "metadata": {},
   "outputs": [
    {
     "data": {
      "text/plain": [
       "ModeResult(mode=array([2]), count=array([3]))"
      ]
     },
     "execution_count": 46,
     "metadata": {},
     "output_type": "execute_result"
    }
   ],
   "source": [
    "# import libraries here\n",
    "import pandas as pd\n",
    "import numpy as np\n",
    "import os\n",
    "os.getcwd()\n",
    "from scipy import stats\n",
    "stats.mode([1,2,3,2,2,1])"
   ]
  },
  {
   "cell_type": "markdown",
   "metadata": {},
   "source": [
    "# Challenge 1"
   ]
  },
  {
   "cell_type": "markdown",
   "metadata": {},
   "source": [
    "#### In this challenge we will use the `Temp_States.csv` file. \n",
    "\n",
    "#### First import it into a data frame called `temp`."
   ]
  },
  {
   "cell_type": "code",
   "execution_count": 2,
   "metadata": {
    "collapsed": true
   },
   "outputs": [],
   "source": [
    "# your answer here\n"
   ]
  },
  {
   "cell_type": "markdown",
   "metadata": {},
   "source": [
    "#### Print `temp`"
   ]
  },
  {
   "cell_type": "code",
   "execution_count": null,
   "metadata": {},
   "outputs": [],
   "source": []
  },
  {
   "cell_type": "markdown",
   "metadata": {},
   "source": [
    "#### Explore the data types of the Temp dataframe. What type of data do we have? Comment your result."
   ]
  },
  {
   "cell_type": "code",
   "execution_count": 7,
   "metadata": {},
   "outputs": [],
   "source": [
    "# your answer here\n"
   ]
  },
  {
   "cell_type": "markdown",
   "metadata": {},
   "source": [
    "#### Select the rows where state is New York"
   ]
  },
  {
   "cell_type": "code",
   "execution_count": 3,
   "metadata": {},
   "outputs": [],
   "source": [
    "# your answer here"
   ]
  },
  {
   "cell_type": "markdown",
   "metadata": {},
   "source": [
    "#### What is the average of the temperature of cities in New York?"
   ]
  },
  {
   "cell_type": "code",
   "execution_count": 4,
   "metadata": {},
   "outputs": [],
   "source": [
    "# your answer here\n"
   ]
  },
  {
   "cell_type": "markdown",
   "metadata": {},
   "source": [
    "#### We want to know cities and states with Temperature above 15 degress Celcius"
   ]
  },
  {
   "cell_type": "code",
   "execution_count": 5,
   "metadata": {},
   "outputs": [],
   "source": [
    "# your answer here\n"
   ]
  },
  {
   "cell_type": "markdown",
   "metadata": {},
   "source": [
    "#### Now, return only the cities that have a temperature above 15 degress Celcius"
   ]
  },
  {
   "cell_type": "code",
   "execution_count": 8,
   "metadata": {},
   "outputs": [],
   "source": [
    "# your answer here"
   ]
  },
  {
   "cell_type": "markdown",
   "metadata": {},
   "source": [
    "#### We want to know which cities have a temperature above 15 degrees Celcius and below 20 degrees Celcius\n",
    "\n",
    "*Hint: First write the condition then select the rows.*"
   ]
  },
  {
   "cell_type": "code",
   "execution_count": 9,
   "metadata": {},
   "outputs": [],
   "source": [
    "# your answer here\n"
   ]
  },
  {
   "cell_type": "markdown",
   "metadata": {},
   "source": [
    "#### Find the mean and the standard deviation of the temperature of each state.\n",
    "\n",
    "*Hint: Use functions from Data Manipulation lesson*"
   ]
  },
  {
   "cell_type": "code",
   "execution_count": 10,
   "metadata": {},
   "outputs": [],
   "source": [
    "# your answer here\n"
   ]
  },
  {
   "cell_type": "markdown",
   "metadata": {
    "collapsed": true
   },
   "source": [
    "# Challenge 2"
   ]
  },
  {
   "cell_type": "markdown",
   "metadata": {},
   "source": [
    "#### Load the `employee.csv` file into a DataFrame. Call the dataframe `employee`"
   ]
  },
  {
   "cell_type": "code",
   "execution_count": 11,
   "metadata": {
    "collapsed": true
   },
   "outputs": [],
   "source": [
    "# your answer here"
   ]
  },
  {
   "cell_type": "markdown",
   "metadata": {},
   "source": [
    "#### Explore the data types of the Temp dataframe. Comment your results"
   ]
  },
  {
   "cell_type": "code",
   "execution_count": 12,
   "metadata": {},
   "outputs": [],
   "source": [
    "# your answer here\n"
   ]
  },
  {
   "cell_type": "markdown",
   "metadata": {},
   "source": [
    "#### Show visually the frequency distribution (histogram) of the employee dataset. In few words describe these histograms?"
   ]
  },
  {
   "cell_type": "code",
   "execution_count": 13,
   "metadata": {},
   "outputs": [],
   "source": [
    "# your answer here"
   ]
  },
  {
   "cell_type": "markdown",
   "metadata": {},
   "source": [
    "#### What's the average salary in this company?"
   ]
  },
  {
   "cell_type": "code",
   "execution_count": 14,
   "metadata": {},
   "outputs": [],
   "source": [
    "# your answer here"
   ]
  },
  {
   "cell_type": "markdown",
   "metadata": {},
   "source": [
    "#### What's the highest salary?"
   ]
  },
  {
   "cell_type": "code",
   "execution_count": 33,
   "metadata": {},
   "outputs": [],
   "source": [
    "# your answer here"
   ]
  },
  {
   "cell_type": "markdown",
   "metadata": {},
   "source": [
    "#### What's the lowest salary?"
   ]
  },
  {
   "cell_type": "code",
   "execution_count": 15,
   "metadata": {},
   "outputs": [],
   "source": [
    "# your answer here\n"
   ]
  },
  {
   "cell_type": "markdown",
   "metadata": {},
   "source": [
    "#### Who are the employees with the lowest salary?"
   ]
  },
  {
   "cell_type": "code",
   "execution_count": 16,
   "metadata": {},
   "outputs": [],
   "source": [
    "# your answer here"
   ]
  },
  {
   "cell_type": "markdown",
   "metadata": {},
   "source": [
    "#### Could you give all the information about an employee called David?"
   ]
  },
  {
   "cell_type": "code",
   "execution_count": 17,
   "metadata": {},
   "outputs": [],
   "source": [
    "# your answer here\n"
   ]
  },
  {
   "cell_type": "markdown",
   "metadata": {},
   "source": [
    "#### Could you give only David's salary?"
   ]
  },
  {
   "cell_type": "code",
   "execution_count": 18,
   "metadata": {},
   "outputs": [],
   "source": [
    "# your answer here\n"
   ]
  },
  {
   "cell_type": "markdown",
   "metadata": {},
   "source": [
    "#### Print all the rows where job title is associate"
   ]
  },
  {
   "cell_type": "code",
   "execution_count": 19,
   "metadata": {},
   "outputs": [],
   "source": [
    "# your answer here"
   ]
  },
  {
   "cell_type": "markdown",
   "metadata": {},
   "source": [
    "#### Print the first 3 rows of your dataframe\n",
    "\n",
    "##### Tip : There are 2 ways to do it. Do it both ways"
   ]
  },
  {
   "cell_type": "code",
   "execution_count": 20,
   "metadata": {},
   "outputs": [],
   "source": [
    "# your answer here- 1 method\n"
   ]
  },
  {
   "cell_type": "code",
   "execution_count": 39,
   "metadata": {},
   "outputs": [
    {
     "data": {
      "text/plain": [
       "True"
      ]
     },
     "execution_count": 39,
     "metadata": {},
     "output_type": "execute_result"
    }
   ],
   "source": [
    "# your answer here- 2nd method\n"
   ]
  },
  {
   "cell_type": "markdown",
   "metadata": {},
   "source": [
    "#### Find the employees who's title is associate and the salary above 55?"
   ]
  },
  {
   "cell_type": "code",
   "execution_count": 22,
   "metadata": {},
   "outputs": [],
   "source": [
    "# your answer here\n"
   ]
  },
  {
   "cell_type": "markdown",
   "metadata": {},
   "source": [
    "#### Group the employees based on their number of years of employment. What are the average salaries in each group?"
   ]
  },
  {
   "cell_type": "code",
   "execution_count": 25,
   "metadata": {},
   "outputs": [],
   "source": [
    "# your answer here"
   ]
  },
  {
   "cell_type": "markdown",
   "metadata": {},
   "source": [
    "####  What is the average Salary per title?"
   ]
  },
  {
   "cell_type": "code",
   "execution_count": 23,
   "metadata": {},
   "outputs": [],
   "source": [
    "# your answer here"
   ]
  },
  {
   "cell_type": "markdown",
   "metadata": {},
   "source": [
    "#### Show a visual summary of the data using boxplot. What Are the First and Third Quartiles? Comment your results.\n",
    "##### * Hint : Quantiles vs Quartiles*\n",
    "##### - `In Probability and Statistics, quantiles are cut points dividing the range of a probability distribution into continuous intervals with equal probabilities. When division is into four parts the values of the variate corresponding to 25%, 50% and 75% of the total distribution are called quartiles.`"
   ]
  },
  {
   "cell_type": "code",
   "execution_count": 26,
   "metadata": {},
   "outputs": [],
   "source": [
    "# draw boxplot here"
   ]
  },
  {
   "cell_type": "code",
   "execution_count": 27,
   "metadata": {},
   "outputs": [],
   "source": [
    "# print first quartile here"
   ]
  },
  {
   "cell_type": "code",
   "execution_count": 28,
   "metadata": {},
   "outputs": [],
   "source": [
    "# print third quartile here"
   ]
  },
  {
   "cell_type": "markdown",
   "metadata": {},
   "source": [
    "#### Is the mean salary per gender different?"
   ]
  },
  {
   "cell_type": "code",
   "execution_count": 29,
   "metadata": {},
   "outputs": [],
   "source": [
    "# your answer here"
   ]
  },
  {
   "cell_type": "markdown",
   "metadata": {},
   "source": [
    "#### Find the minimum, mean and the maximum of all numeric columns for each Department.\n",
    "\n",
    "##### Hint: Use functions from Data Manipulation lesson"
   ]
  },
  {
   "cell_type": "code",
   "execution_count": 30,
   "metadata": {},
   "outputs": [],
   "source": [
    "# your answer here"
   ]
  },
  {
   "cell_type": "markdown",
   "metadata": {},
   "source": [
    "### Bonus Question\n",
    "\n",
    "#### For each department, compute the difference between the maximal salary and the minimal salary.\n",
    "\n",
    "##### * Hint: try using `agg` or `apply` and `lambda`*"
   ]
  },
  {
   "cell_type": "code",
   "execution_count": 32,
   "metadata": {},
   "outputs": [],
   "source": [
    "# your answer here"
   ]
  },
  {
   "cell_type": "markdown",
   "metadata": {
    "collapsed": true
   },
   "source": [
    "# Challenge 3"
   ]
  },
  {
   "cell_type": "markdown",
   "metadata": {},
   "source": [
    "#### Open the Orders.csv dataset. Name your dataset orders"
   ]
  },
  {
   "cell_type": "code",
   "execution_count": 20,
   "metadata": {},
   "outputs": [
    {
     "data": {
      "text/plain": [
       "['Orders.csv']"
      ]
     },
     "execution_count": 20,
     "metadata": {},
     "output_type": "execute_result"
    }
   ],
   "source": [
    "# your answer here\n",
    "os.listdir()\n",
    "df=pd.read_csv('.\\\\Orders.csv')\n",
    "# your answer here\n",
    "os.listdir()\n",
    "#os.chdir('.\\Orders')\n",
    "#os.listdir()"
   ]
  },
  {
   "cell_type": "markdown",
   "metadata": {},
   "source": [
    "#### Explore your dataset by looking at the data types and the summary statistics. Comment your results"
   ]
  },
  {
   "cell_type": "code",
   "execution_count": 23,
   "metadata": {},
   "outputs": [
    {
     "data": {
      "text/html": [
       "<div>\n",
       "<style scoped>\n",
       "    .dataframe tbody tr th:only-of-type {\n",
       "        vertical-align: middle;\n",
       "    }\n",
       "\n",
       "    .dataframe tbody tr th {\n",
       "        vertical-align: top;\n",
       "    }\n",
       "\n",
       "    .dataframe thead th {\n",
       "        text-align: right;\n",
       "    }\n",
       "</style>\n",
       "<table border=\"1\" class=\"dataframe\">\n",
       "  <thead>\n",
       "    <tr style=\"text-align: right;\">\n",
       "      <th></th>\n",
       "      <th>count</th>\n",
       "      <th>mean</th>\n",
       "      <th>std</th>\n",
       "      <th>min</th>\n",
       "      <th>25%</th>\n",
       "      <th>50%</th>\n",
       "      <th>75%</th>\n",
       "      <th>max</th>\n",
       "    </tr>\n",
       "  </thead>\n",
       "  <tbody>\n",
       "    <tr>\n",
       "      <th>Unnamed: 0</th>\n",
       "      <td>397924.0</td>\n",
       "      <td>278465.221859</td>\n",
       "      <td>152771.368303</td>\n",
       "      <td>0.0</td>\n",
       "      <td>148333.75</td>\n",
       "      <td>284907.50</td>\n",
       "      <td>410079.25</td>\n",
       "      <td>541908.00</td>\n",
       "    </tr>\n",
       "    <tr>\n",
       "      <th>InvoiceNo</th>\n",
       "      <td>397924.0</td>\n",
       "      <td>560617.126645</td>\n",
       "      <td>13106.167695</td>\n",
       "      <td>536365.0</td>\n",
       "      <td>549234.00</td>\n",
       "      <td>561893.00</td>\n",
       "      <td>572090.00</td>\n",
       "      <td>581587.00</td>\n",
       "    </tr>\n",
       "    <tr>\n",
       "      <th>year</th>\n",
       "      <td>397924.0</td>\n",
       "      <td>2010.934259</td>\n",
       "      <td>0.247829</td>\n",
       "      <td>2010.0</td>\n",
       "      <td>2011.00</td>\n",
       "      <td>2011.00</td>\n",
       "      <td>2011.00</td>\n",
       "      <td>2011.00</td>\n",
       "    </tr>\n",
       "    <tr>\n",
       "      <th>month</th>\n",
       "      <td>397924.0</td>\n",
       "      <td>7.612537</td>\n",
       "      <td>3.416527</td>\n",
       "      <td>1.0</td>\n",
       "      <td>5.00</td>\n",
       "      <td>8.00</td>\n",
       "      <td>11.00</td>\n",
       "      <td>12.00</td>\n",
       "    </tr>\n",
       "    <tr>\n",
       "      <th>day</th>\n",
       "      <td>397924.0</td>\n",
       "      <td>3.614555</td>\n",
       "      <td>1.928274</td>\n",
       "      <td>1.0</td>\n",
       "      <td>2.00</td>\n",
       "      <td>3.00</td>\n",
       "      <td>5.00</td>\n",
       "      <td>7.00</td>\n",
       "    </tr>\n",
       "    <tr>\n",
       "      <th>hour</th>\n",
       "      <td>397924.0</td>\n",
       "      <td>12.728247</td>\n",
       "      <td>2.273535</td>\n",
       "      <td>6.0</td>\n",
       "      <td>11.00</td>\n",
       "      <td>13.00</td>\n",
       "      <td>14.00</td>\n",
       "      <td>20.00</td>\n",
       "    </tr>\n",
       "    <tr>\n",
       "      <th>Quantity</th>\n",
       "      <td>397924.0</td>\n",
       "      <td>13.021823</td>\n",
       "      <td>180.420210</td>\n",
       "      <td>1.0</td>\n",
       "      <td>2.00</td>\n",
       "      <td>6.00</td>\n",
       "      <td>12.00</td>\n",
       "      <td>80995.00</td>\n",
       "    </tr>\n",
       "    <tr>\n",
       "      <th>UnitPrice</th>\n",
       "      <td>397924.0</td>\n",
       "      <td>3.116174</td>\n",
       "      <td>22.096788</td>\n",
       "      <td>0.0</td>\n",
       "      <td>1.25</td>\n",
       "      <td>1.95</td>\n",
       "      <td>3.75</td>\n",
       "      <td>8142.75</td>\n",
       "    </tr>\n",
       "    <tr>\n",
       "      <th>CustomerID</th>\n",
       "      <td>397924.0</td>\n",
       "      <td>15294.315171</td>\n",
       "      <td>1713.169877</td>\n",
       "      <td>12346.0</td>\n",
       "      <td>13969.00</td>\n",
       "      <td>15159.00</td>\n",
       "      <td>16795.00</td>\n",
       "      <td>18287.00</td>\n",
       "    </tr>\n",
       "    <tr>\n",
       "      <th>amount_spent</th>\n",
       "      <td>397924.0</td>\n",
       "      <td>22.394749</td>\n",
       "      <td>309.055588</td>\n",
       "      <td>0.0</td>\n",
       "      <td>4.68</td>\n",
       "      <td>11.80</td>\n",
       "      <td>19.80</td>\n",
       "      <td>168469.60</td>\n",
       "    </tr>\n",
       "  </tbody>\n",
       "</table>\n",
       "</div>"
      ],
      "text/plain": [
       "                 count           mean            std       min        25%  \\\n",
       "Unnamed: 0    397924.0  278465.221859  152771.368303       0.0  148333.75   \n",
       "InvoiceNo     397924.0  560617.126645   13106.167695  536365.0  549234.00   \n",
       "year          397924.0    2010.934259       0.247829    2010.0    2011.00   \n",
       "month         397924.0       7.612537       3.416527       1.0       5.00   \n",
       "day           397924.0       3.614555       1.928274       1.0       2.00   \n",
       "hour          397924.0      12.728247       2.273535       6.0      11.00   \n",
       "Quantity      397924.0      13.021823     180.420210       1.0       2.00   \n",
       "UnitPrice     397924.0       3.116174      22.096788       0.0       1.25   \n",
       "CustomerID    397924.0   15294.315171    1713.169877   12346.0   13969.00   \n",
       "amount_spent  397924.0      22.394749     309.055588       0.0       4.68   \n",
       "\n",
       "                    50%        75%        max  \n",
       "Unnamed: 0    284907.50  410079.25  541908.00  \n",
       "InvoiceNo     561893.00  572090.00  581587.00  \n",
       "year            2011.00    2011.00    2011.00  \n",
       "month              8.00      11.00      12.00  \n",
       "day                3.00       5.00       7.00  \n",
       "hour              13.00      14.00      20.00  \n",
       "Quantity           6.00      12.00   80995.00  \n",
       "UnitPrice          1.95       3.75    8142.75  \n",
       "CustomerID     15159.00   16795.00   18287.00  \n",
       "amount_spent      11.80      19.80  168469.60  "
      ]
     },
     "execution_count": 23,
     "metadata": {},
     "output_type": "execute_result"
    }
   ],
   "source": [
    "# your answer here\n",
    "df.describe().T"
   ]
  },
  {
   "cell_type": "code",
   "execution_count": null,
   "metadata": {
    "collapsed": true
   },
   "outputs": [],
   "source": [
    "# your answer here"
   ]
  },
  {
   "cell_type": "markdown",
   "metadata": {},
   "source": [
    "####  What is the average Purchase Price?"
   ]
  },
  {
   "cell_type": "code",
   "execution_count": null,
   "metadata": {
    "collapsed": true
   },
   "outputs": [],
   "source": [
    "# your answer here"
   ]
  },
  {
   "cell_type": "markdown",
   "metadata": {},
   "source": [
    "#### What were the highest and lowest purchase prices? "
   ]
  },
  {
   "cell_type": "code",
   "execution_count": null,
   "metadata": {
    "collapsed": true
   },
   "outputs": [],
   "source": [
    "# your answer here"
   ]
  },
  {
   "cell_type": "code",
   "execution_count": null,
   "metadata": {
    "collapsed": true
   },
   "outputs": [],
   "source": [
    "# your answer here"
   ]
  },
  {
   "cell_type": "markdown",
   "metadata": {},
   "source": [
    "#### Select all the customers we have in Spain"
   ]
  },
  {
   "cell_type": "code",
   "execution_count": null,
   "metadata": {
    "collapsed": true
   },
   "outputs": [],
   "source": [
    "# your answer here"
   ]
  },
  {
   "cell_type": "markdown",
   "metadata": {},
   "source": [
    "#### How many customers do we have in Spain?\n",
    "##### Hint : Use value_counts()"
   ]
  },
  {
   "cell_type": "code",
   "execution_count": null,
   "metadata": {
    "collapsed": true
   },
   "outputs": [],
   "source": [
    "# your answer here"
   ]
  },
  {
   "cell_type": "markdown",
   "metadata": {},
   "source": [
    "#### Select all the customers who have bought more than 50 items ?"
   ]
  },
  {
   "cell_type": "code",
   "execution_count": 34,
   "metadata": {
    "scrolled": true
   },
   "outputs": [
    {
     "data": {
      "text/plain": [
       "80995"
      ]
     },
     "execution_count": 34,
     "metadata": {},
     "output_type": "execute_result"
    }
   ],
   "source": [
    "# your answer here\n",
    "df.Quantity.max()"
   ]
  },
  {
   "cell_type": "code",
   "execution_count": 32,
   "metadata": {},
   "outputs": [
    {
     "data": {
      "text/html": [
       "<div>\n",
       "<style scoped>\n",
       "    .dataframe tbody tr th:only-of-type {\n",
       "        vertical-align: middle;\n",
       "    }\n",
       "\n",
       "    .dataframe tbody tr th {\n",
       "        vertical-align: top;\n",
       "    }\n",
       "\n",
       "    .dataframe thead th {\n",
       "        text-align: right;\n",
       "    }\n",
       "</style>\n",
       "<table border=\"1\" class=\"dataframe\">\n",
       "  <thead>\n",
       "    <tr style=\"text-align: right;\">\n",
       "      <th></th>\n",
       "      <th>Unnamed: 0</th>\n",
       "      <th>InvoiceNo</th>\n",
       "      <th>StockCode</th>\n",
       "      <th>year</th>\n",
       "      <th>month</th>\n",
       "      <th>day</th>\n",
       "      <th>hour</th>\n",
       "      <th>Description</th>\n",
       "      <th>Quantity</th>\n",
       "      <th>InvoiceDate</th>\n",
       "      <th>UnitPrice</th>\n",
       "      <th>CustomerID</th>\n",
       "      <th>Country</th>\n",
       "      <th>amount_spent</th>\n",
       "    </tr>\n",
       "  </thead>\n",
       "  <tbody>\n",
       "    <tr>\n",
       "      <th>46</th>\n",
       "      <td>46</td>\n",
       "      <td>536371</td>\n",
       "      <td>22086</td>\n",
       "      <td>2010</td>\n",
       "      <td>12</td>\n",
       "      <td>3</td>\n",
       "      <td>9</td>\n",
       "      <td>paper chain kit 50's christmas</td>\n",
       "      <td>80</td>\n",
       "      <td>2010-12-01 09:00:00</td>\n",
       "      <td>2.55</td>\n",
       "      <td>13748</td>\n",
       "      <td>United Kingdom</td>\n",
       "      <td>204.00</td>\n",
       "    </tr>\n",
       "    <tr>\n",
       "      <th>83</th>\n",
       "      <td>83</td>\n",
       "      <td>536376</td>\n",
       "      <td>21733</td>\n",
       "      <td>2010</td>\n",
       "      <td>12</td>\n",
       "      <td>3</td>\n",
       "      <td>9</td>\n",
       "      <td>red hanging heart t-light holder</td>\n",
       "      <td>64</td>\n",
       "      <td>2010-12-01 09:32:00</td>\n",
       "      <td>2.55</td>\n",
       "      <td>15291</td>\n",
       "      <td>United Kingdom</td>\n",
       "      <td>163.20</td>\n",
       "    </tr>\n",
       "    <tr>\n",
       "      <th>96</th>\n",
       "      <td>96</td>\n",
       "      <td>536378</td>\n",
       "      <td>21212</td>\n",
       "      <td>2010</td>\n",
       "      <td>12</td>\n",
       "      <td>3</td>\n",
       "      <td>9</td>\n",
       "      <td>pack of 72 retrospot cake cases</td>\n",
       "      <td>120</td>\n",
       "      <td>2010-12-01 09:37:00</td>\n",
       "      <td>0.42</td>\n",
       "      <td>14688</td>\n",
       "      <td>United Kingdom</td>\n",
       "      <td>50.40</td>\n",
       "    </tr>\n",
       "    <tr>\n",
       "      <th>102</th>\n",
       "      <td>102</td>\n",
       "      <td>536378</td>\n",
       "      <td>85071B</td>\n",
       "      <td>2010</td>\n",
       "      <td>12</td>\n",
       "      <td>3</td>\n",
       "      <td>9</td>\n",
       "      <td>red charlie+lola personal doorsign</td>\n",
       "      <td>96</td>\n",
       "      <td>2010-12-01 09:37:00</td>\n",
       "      <td>0.38</td>\n",
       "      <td>14688</td>\n",
       "      <td>United Kingdom</td>\n",
       "      <td>36.48</td>\n",
       "    </tr>\n",
       "    <tr>\n",
       "      <th>174</th>\n",
       "      <td>176</td>\n",
       "      <td>536386</td>\n",
       "      <td>85099C</td>\n",
       "      <td>2010</td>\n",
       "      <td>12</td>\n",
       "      <td>3</td>\n",
       "      <td>9</td>\n",
       "      <td>jumbo  bag baroque black white</td>\n",
       "      <td>100</td>\n",
       "      <td>2010-12-01 09:57:00</td>\n",
       "      <td>1.65</td>\n",
       "      <td>16029</td>\n",
       "      <td>United Kingdom</td>\n",
       "      <td>165.00</td>\n",
       "    </tr>\n",
       "    <tr>\n",
       "      <th>175</th>\n",
       "      <td>177</td>\n",
       "      <td>536386</td>\n",
       "      <td>85099B</td>\n",
       "      <td>2010</td>\n",
       "      <td>12</td>\n",
       "      <td>3</td>\n",
       "      <td>9</td>\n",
       "      <td>jumbo bag red retrospot</td>\n",
       "      <td>100</td>\n",
       "      <td>2010-12-01 09:57:00</td>\n",
       "      <td>1.65</td>\n",
       "      <td>16029</td>\n",
       "      <td>United Kingdom</td>\n",
       "      <td>165.00</td>\n",
       "    </tr>\n",
       "    <tr>\n",
       "      <th>176</th>\n",
       "      <td>178</td>\n",
       "      <td>536387</td>\n",
       "      <td>79321</td>\n",
       "      <td>2010</td>\n",
       "      <td>12</td>\n",
       "      <td>3</td>\n",
       "      <td>9</td>\n",
       "      <td>chilli lights</td>\n",
       "      <td>192</td>\n",
       "      <td>2010-12-01 09:58:00</td>\n",
       "      <td>3.82</td>\n",
       "      <td>16029</td>\n",
       "      <td>United Kingdom</td>\n",
       "      <td>733.44</td>\n",
       "    </tr>\n",
       "    <tr>\n",
       "      <th>177</th>\n",
       "      <td>179</td>\n",
       "      <td>536387</td>\n",
       "      <td>22780</td>\n",
       "      <td>2010</td>\n",
       "      <td>12</td>\n",
       "      <td>3</td>\n",
       "      <td>9</td>\n",
       "      <td>light garland butterfiles pink</td>\n",
       "      <td>192</td>\n",
       "      <td>2010-12-01 09:58:00</td>\n",
       "      <td>3.37</td>\n",
       "      <td>16029</td>\n",
       "      <td>United Kingdom</td>\n",
       "      <td>647.04</td>\n",
       "    </tr>\n",
       "    <tr>\n",
       "      <th>178</th>\n",
       "      <td>180</td>\n",
       "      <td>536387</td>\n",
       "      <td>22779</td>\n",
       "      <td>2010</td>\n",
       "      <td>12</td>\n",
       "      <td>3</td>\n",
       "      <td>9</td>\n",
       "      <td>wooden owls light garland</td>\n",
       "      <td>192</td>\n",
       "      <td>2010-12-01 09:58:00</td>\n",
       "      <td>3.37</td>\n",
       "      <td>16029</td>\n",
       "      <td>United Kingdom</td>\n",
       "      <td>647.04</td>\n",
       "    </tr>\n",
       "    <tr>\n",
       "      <th>179</th>\n",
       "      <td>181</td>\n",
       "      <td>536387</td>\n",
       "      <td>22466</td>\n",
       "      <td>2010</td>\n",
       "      <td>12</td>\n",
       "      <td>3</td>\n",
       "      <td>9</td>\n",
       "      <td>fairy tale cottage nightlight</td>\n",
       "      <td>432</td>\n",
       "      <td>2010-12-01 09:58:00</td>\n",
       "      <td>1.45</td>\n",
       "      <td>16029</td>\n",
       "      <td>United Kingdom</td>\n",
       "      <td>626.40</td>\n",
       "    </tr>\n",
       "    <tr>\n",
       "      <th>180</th>\n",
       "      <td>182</td>\n",
       "      <td>536387</td>\n",
       "      <td>21731</td>\n",
       "      <td>2010</td>\n",
       "      <td>12</td>\n",
       "      <td>3</td>\n",
       "      <td>9</td>\n",
       "      <td>red toadstool led night light</td>\n",
       "      <td>432</td>\n",
       "      <td>2010-12-01 09:58:00</td>\n",
       "      <td>1.25</td>\n",
       "      <td>16029</td>\n",
       "      <td>United Kingdom</td>\n",
       "      <td>540.00</td>\n",
       "    </tr>\n",
       "    <tr>\n",
       "      <th>215</th>\n",
       "      <td>217</td>\n",
       "      <td>536390</td>\n",
       "      <td>84970S</td>\n",
       "      <td>2010</td>\n",
       "      <td>12</td>\n",
       "      <td>3</td>\n",
       "      <td>10</td>\n",
       "      <td>hanging heart zinc t-light holder</td>\n",
       "      <td>144</td>\n",
       "      <td>2010-12-01 10:19:00</td>\n",
       "      <td>0.64</td>\n",
       "      <td>17511</td>\n",
       "      <td>United Kingdom</td>\n",
       "      <td>92.16</td>\n",
       "    </tr>\n",
       "    <tr>\n",
       "      <th>217</th>\n",
       "      <td>219</td>\n",
       "      <td>536390</td>\n",
       "      <td>20668</td>\n",
       "      <td>2010</td>\n",
       "      <td>12</td>\n",
       "      <td>3</td>\n",
       "      <td>10</td>\n",
       "      <td>disco ball christmas decoration</td>\n",
       "      <td>288</td>\n",
       "      <td>2010-12-01 10:19:00</td>\n",
       "      <td>0.10</td>\n",
       "      <td>17511</td>\n",
       "      <td>United Kingdom</td>\n",
       "      <td>28.80</td>\n",
       "    </tr>\n",
       "    <tr>\n",
       "      <th>218</th>\n",
       "      <td>220</td>\n",
       "      <td>536390</td>\n",
       "      <td>85123A</td>\n",
       "      <td>2010</td>\n",
       "      <td>12</td>\n",
       "      <td>3</td>\n",
       "      <td>10</td>\n",
       "      <td>white hanging heart t-light holder</td>\n",
       "      <td>64</td>\n",
       "      <td>2010-12-01 10:19:00</td>\n",
       "      <td>2.55</td>\n",
       "      <td>17511</td>\n",
       "      <td>United Kingdom</td>\n",
       "      <td>163.20</td>\n",
       "    </tr>\n",
       "    <tr>\n",
       "      <th>219</th>\n",
       "      <td>221</td>\n",
       "      <td>536390</td>\n",
       "      <td>22197</td>\n",
       "      <td>2010</td>\n",
       "      <td>12</td>\n",
       "      <td>3</td>\n",
       "      <td>10</td>\n",
       "      <td>small popcorn holder</td>\n",
       "      <td>100</td>\n",
       "      <td>2010-12-01 10:19:00</td>\n",
       "      <td>0.72</td>\n",
       "      <td>17511</td>\n",
       "      <td>United Kingdom</td>\n",
       "      <td>72.00</td>\n",
       "    </tr>\n",
       "    <tr>\n",
       "      <th>222</th>\n",
       "      <td>224</td>\n",
       "      <td>536390</td>\n",
       "      <td>21080</td>\n",
       "      <td>2010</td>\n",
       "      <td>12</td>\n",
       "      <td>3</td>\n",
       "      <td>10</td>\n",
       "      <td>set/20 red retrospot paper napkins</td>\n",
       "      <td>96</td>\n",
       "      <td>2010-12-01 10:19:00</td>\n",
       "      <td>0.64</td>\n",
       "      <td>17511</td>\n",
       "      <td>United Kingdom</td>\n",
       "      <td>61.44</td>\n",
       "    </tr>\n",
       "    <tr>\n",
       "      <th>223</th>\n",
       "      <td>225</td>\n",
       "      <td>536390</td>\n",
       "      <td>21094</td>\n",
       "      <td>2010</td>\n",
       "      <td>12</td>\n",
       "      <td>3</td>\n",
       "      <td>10</td>\n",
       "      <td>set/6 red spotty paper plates</td>\n",
       "      <td>96</td>\n",
       "      <td>2010-12-01 10:19:00</td>\n",
       "      <td>0.64</td>\n",
       "      <td>17511</td>\n",
       "      <td>United Kingdom</td>\n",
       "      <td>61.44</td>\n",
       "    </tr>\n",
       "    <tr>\n",
       "      <th>225</th>\n",
       "      <td>227</td>\n",
       "      <td>536390</td>\n",
       "      <td>21786</td>\n",
       "      <td>2010</td>\n",
       "      <td>12</td>\n",
       "      <td>3</td>\n",
       "      <td>10</td>\n",
       "      <td>polkadot rain hat</td>\n",
       "      <td>144</td>\n",
       "      <td>2010-12-01 10:19:00</td>\n",
       "      <td>0.32</td>\n",
       "      <td>17511</td>\n",
       "      <td>United Kingdom</td>\n",
       "      <td>46.08</td>\n",
       "    </tr>\n",
       "    <tr>\n",
       "      <th>231</th>\n",
       "      <td>233</td>\n",
       "      <td>536390</td>\n",
       "      <td>22969</td>\n",
       "      <td>2010</td>\n",
       "      <td>12</td>\n",
       "      <td>3</td>\n",
       "      <td>10</td>\n",
       "      <td>homemade jam scented candles</td>\n",
       "      <td>96</td>\n",
       "      <td>2010-12-01 10:19:00</td>\n",
       "      <td>1.25</td>\n",
       "      <td>17511</td>\n",
       "      <td>United Kingdom</td>\n",
       "      <td>120.00</td>\n",
       "    </tr>\n",
       "    <tr>\n",
       "      <th>232</th>\n",
       "      <td>234</td>\n",
       "      <td>536390</td>\n",
       "      <td>85099B</td>\n",
       "      <td>2010</td>\n",
       "      <td>12</td>\n",
       "      <td>3</td>\n",
       "      <td>10</td>\n",
       "      <td>jumbo bag red retrospot</td>\n",
       "      <td>100</td>\n",
       "      <td>2010-12-01 10:19:00</td>\n",
       "      <td>1.65</td>\n",
       "      <td>17511</td>\n",
       "      <td>United Kingdom</td>\n",
       "      <td>165.00</td>\n",
       "    </tr>\n",
       "    <tr>\n",
       "      <th>245</th>\n",
       "      <td>254</td>\n",
       "      <td>536394</td>\n",
       "      <td>22633</td>\n",
       "      <td>2010</td>\n",
       "      <td>12</td>\n",
       "      <td>3</td>\n",
       "      <td>10</td>\n",
       "      <td>hand warmer union jack</td>\n",
       "      <td>96</td>\n",
       "      <td>2010-12-01 10:39:00</td>\n",
       "      <td>1.85</td>\n",
       "      <td>13408</td>\n",
       "      <td>United Kingdom</td>\n",
       "      <td>177.60</td>\n",
       "    </tr>\n",
       "    <tr>\n",
       "      <th>246</th>\n",
       "      <td>255</td>\n",
       "      <td>536394</td>\n",
       "      <td>22866</td>\n",
       "      <td>2010</td>\n",
       "      <td>12</td>\n",
       "      <td>3</td>\n",
       "      <td>10</td>\n",
       "      <td>hand warmer scotty dog design</td>\n",
       "      <td>96</td>\n",
       "      <td>2010-12-01 10:39:00</td>\n",
       "      <td>1.85</td>\n",
       "      <td>13408</td>\n",
       "      <td>United Kingdom</td>\n",
       "      <td>177.60</td>\n",
       "    </tr>\n",
       "    <tr>\n",
       "      <th>247</th>\n",
       "      <td>256</td>\n",
       "      <td>536394</td>\n",
       "      <td>22865</td>\n",
       "      <td>2010</td>\n",
       "      <td>12</td>\n",
       "      <td>3</td>\n",
       "      <td>10</td>\n",
       "      <td>hand warmer owl design</td>\n",
       "      <td>96</td>\n",
       "      <td>2010-12-01 10:39:00</td>\n",
       "      <td>1.85</td>\n",
       "      <td>13408</td>\n",
       "      <td>United Kingdom</td>\n",
       "      <td>177.60</td>\n",
       "    </tr>\n",
       "    <tr>\n",
       "      <th>248</th>\n",
       "      <td>257</td>\n",
       "      <td>536394</td>\n",
       "      <td>22632</td>\n",
       "      <td>2010</td>\n",
       "      <td>12</td>\n",
       "      <td>3</td>\n",
       "      <td>10</td>\n",
       "      <td>hand warmer red retrospot</td>\n",
       "      <td>96</td>\n",
       "      <td>2010-12-01 10:39:00</td>\n",
       "      <td>1.85</td>\n",
       "      <td>13408</td>\n",
       "      <td>United Kingdom</td>\n",
       "      <td>177.60</td>\n",
       "    </tr>\n",
       "    <tr>\n",
       "      <th>376</th>\n",
       "      <td>385</td>\n",
       "      <td>536403</td>\n",
       "      <td>22867</td>\n",
       "      <td>2010</td>\n",
       "      <td>12</td>\n",
       "      <td>3</td>\n",
       "      <td>11</td>\n",
       "      <td>hand warmer bird design</td>\n",
       "      <td>96</td>\n",
       "      <td>2010-12-01 11:27:00</td>\n",
       "      <td>1.85</td>\n",
       "      <td>12791</td>\n",
       "      <td>Netherlands</td>\n",
       "      <td>177.60</td>\n",
       "    </tr>\n",
       "    <tr>\n",
       "      <th>406</th>\n",
       "      <td>415</td>\n",
       "      <td>536405</td>\n",
       "      <td>20914</td>\n",
       "      <td>2010</td>\n",
       "      <td>12</td>\n",
       "      <td>3</td>\n",
       "      <td>11</td>\n",
       "      <td>set/5 red retrospot lid glass bowls</td>\n",
       "      <td>128</td>\n",
       "      <td>2010-12-01 11:32:00</td>\n",
       "      <td>2.55</td>\n",
       "      <td>14045</td>\n",
       "      <td>United Kingdom</td>\n",
       "      <td>326.40</td>\n",
       "    </tr>\n",
       "    <tr>\n",
       "      <th>673</th>\n",
       "      <td>683</td>\n",
       "      <td>536416</td>\n",
       "      <td>21915</td>\n",
       "      <td>2010</td>\n",
       "      <td>12</td>\n",
       "      <td>3</td>\n",
       "      <td>11</td>\n",
       "      <td>red  harmonica in box</td>\n",
       "      <td>72</td>\n",
       "      <td>2010-12-01 11:58:00</td>\n",
       "      <td>1.25</td>\n",
       "      <td>13255</td>\n",
       "      <td>United Kingdom</td>\n",
       "      <td>90.00</td>\n",
       "    </tr>\n",
       "    <tr>\n",
       "      <th>718</th>\n",
       "      <td>728</td>\n",
       "      <td>536437</td>\n",
       "      <td>21154</td>\n",
       "      <td>2010</td>\n",
       "      <td>12</td>\n",
       "      <td>3</td>\n",
       "      <td>12</td>\n",
       "      <td>red retrospot oven glove</td>\n",
       "      <td>200</td>\n",
       "      <td>2010-12-01 12:12:00</td>\n",
       "      <td>1.06</td>\n",
       "      <td>13694</td>\n",
       "      <td>United Kingdom</td>\n",
       "      <td>212.00</td>\n",
       "    </tr>\n",
       "    <tr>\n",
       "      <th>719</th>\n",
       "      <td>729</td>\n",
       "      <td>536437</td>\n",
       "      <td>22189</td>\n",
       "      <td>2010</td>\n",
       "      <td>12</td>\n",
       "      <td>3</td>\n",
       "      <td>12</td>\n",
       "      <td>cream heart card holder</td>\n",
       "      <td>72</td>\n",
       "      <td>2010-12-01 12:12:00</td>\n",
       "      <td>3.39</td>\n",
       "      <td>13694</td>\n",
       "      <td>United Kingdom</td>\n",
       "      <td>244.08</td>\n",
       "    </tr>\n",
       "    <tr>\n",
       "      <th>720</th>\n",
       "      <td>730</td>\n",
       "      <td>536437</td>\n",
       "      <td>17021</td>\n",
       "      <td>2010</td>\n",
       "      <td>12</td>\n",
       "      <td>3</td>\n",
       "      <td>12</td>\n",
       "      <td>namaste swagat incense</td>\n",
       "      <td>600</td>\n",
       "      <td>2010-12-01 12:12:00</td>\n",
       "      <td>0.24</td>\n",
       "      <td>13694</td>\n",
       "      <td>United Kingdom</td>\n",
       "      <td>144.00</td>\n",
       "    </tr>\n",
       "    <tr>\n",
       "      <th>...</th>\n",
       "      <td>...</td>\n",
       "      <td>...</td>\n",
       "      <td>...</td>\n",
       "      <td>...</td>\n",
       "      <td>...</td>\n",
       "      <td>...</td>\n",
       "      <td>...</td>\n",
       "      <td>...</td>\n",
       "      <td>...</td>\n",
       "      <td>...</td>\n",
       "      <td>...</td>\n",
       "      <td>...</td>\n",
       "      <td>...</td>\n",
       "      <td>...</td>\n",
       "    </tr>\n",
       "    <tr>\n",
       "      <th>397113</th>\n",
       "      <td>540064</td>\n",
       "      <td>581457</td>\n",
       "      <td>23542</td>\n",
       "      <td>2011</td>\n",
       "      <td>12</td>\n",
       "      <td>4</td>\n",
       "      <td>18</td>\n",
       "      <td>wall art 70's alphabet</td>\n",
       "      <td>120</td>\n",
       "      <td>2011-12-08 18:43:00</td>\n",
       "      <td>6.67</td>\n",
       "      <td>18102</td>\n",
       "      <td>United Kingdom</td>\n",
       "      <td>800.40</td>\n",
       "    </tr>\n",
       "    <tr>\n",
       "      <th>397114</th>\n",
       "      <td>540065</td>\n",
       "      <td>581457</td>\n",
       "      <td>23531</td>\n",
       "      <td>2011</td>\n",
       "      <td>12</td>\n",
       "      <td>4</td>\n",
       "      <td>18</td>\n",
       "      <td>wall art big love</td>\n",
       "      <td>120</td>\n",
       "      <td>2011-12-08 18:43:00</td>\n",
       "      <td>4.76</td>\n",
       "      <td>18102</td>\n",
       "      <td>United Kingdom</td>\n",
       "      <td>571.20</td>\n",
       "    </tr>\n",
       "    <tr>\n",
       "      <th>397115</th>\n",
       "      <td>540066</td>\n",
       "      <td>581457</td>\n",
       "      <td>23535</td>\n",
       "      <td>2011</td>\n",
       "      <td>12</td>\n",
       "      <td>4</td>\n",
       "      <td>18</td>\n",
       "      <td>wall art bicycle safety</td>\n",
       "      <td>126</td>\n",
       "      <td>2011-12-08 18:43:00</td>\n",
       "      <td>3.90</td>\n",
       "      <td>18102</td>\n",
       "      <td>United Kingdom</td>\n",
       "      <td>491.40</td>\n",
       "    </tr>\n",
       "    <tr>\n",
       "      <th>397116</th>\n",
       "      <td>540067</td>\n",
       "      <td>581457</td>\n",
       "      <td>23530</td>\n",
       "      <td>2011</td>\n",
       "      <td>12</td>\n",
       "      <td>4</td>\n",
       "      <td>18</td>\n",
       "      <td>wall art only one person</td>\n",
       "      <td>126</td>\n",
       "      <td>2011-12-08 18:43:00</td>\n",
       "      <td>3.57</td>\n",
       "      <td>18102</td>\n",
       "      <td>United Kingdom</td>\n",
       "      <td>449.82</td>\n",
       "    </tr>\n",
       "    <tr>\n",
       "      <th>397117</th>\n",
       "      <td>540068</td>\n",
       "      <td>581457</td>\n",
       "      <td>23526</td>\n",
       "      <td>2011</td>\n",
       "      <td>12</td>\n",
       "      <td>4</td>\n",
       "      <td>18</td>\n",
       "      <td>wall art dog licence</td>\n",
       "      <td>126</td>\n",
       "      <td>2011-12-08 18:43:00</td>\n",
       "      <td>3.90</td>\n",
       "      <td>18102</td>\n",
       "      <td>United Kingdom</td>\n",
       "      <td>491.40</td>\n",
       "    </tr>\n",
       "    <tr>\n",
       "      <th>397118</th>\n",
       "      <td>540069</td>\n",
       "      <td>581457</td>\n",
       "      <td>23401</td>\n",
       "      <td>2011</td>\n",
       "      <td>12</td>\n",
       "      <td>4</td>\n",
       "      <td>18</td>\n",
       "      <td>rustic mirror with lace heart</td>\n",
       "      <td>126</td>\n",
       "      <td>2011-12-08 18:43:00</td>\n",
       "      <td>4.15</td>\n",
       "      <td>18102</td>\n",
       "      <td>United Kingdom</td>\n",
       "      <td>522.90</td>\n",
       "    </tr>\n",
       "    <tr>\n",
       "      <th>397119</th>\n",
       "      <td>540070</td>\n",
       "      <td>581458</td>\n",
       "      <td>22197</td>\n",
       "      <td>2011</td>\n",
       "      <td>12</td>\n",
       "      <td>4</td>\n",
       "      <td>18</td>\n",
       "      <td>popcorn holder</td>\n",
       "      <td>1500</td>\n",
       "      <td>2011-12-08 18:45:00</td>\n",
       "      <td>0.72</td>\n",
       "      <td>17949</td>\n",
       "      <td>United Kingdom</td>\n",
       "      <td>1080.00</td>\n",
       "    </tr>\n",
       "    <tr>\n",
       "      <th>397120</th>\n",
       "      <td>540071</td>\n",
       "      <td>581459</td>\n",
       "      <td>22197</td>\n",
       "      <td>2011</td>\n",
       "      <td>12</td>\n",
       "      <td>4</td>\n",
       "      <td>18</td>\n",
       "      <td>popcorn holder</td>\n",
       "      <td>1200</td>\n",
       "      <td>2011-12-08 18:46:00</td>\n",
       "      <td>0.72</td>\n",
       "      <td>17949</td>\n",
       "      <td>United Kingdom</td>\n",
       "      <td>864.00</td>\n",
       "    </tr>\n",
       "    <tr>\n",
       "      <th>397155</th>\n",
       "      <td>540122</td>\n",
       "      <td>581467</td>\n",
       "      <td>21167</td>\n",
       "      <td>2011</td>\n",
       "      <td>12</td>\n",
       "      <td>4</td>\n",
       "      <td>19</td>\n",
       "      <td>white sage incense</td>\n",
       "      <td>75</td>\n",
       "      <td>2011-12-08 19:24:00</td>\n",
       "      <td>0.21</td>\n",
       "      <td>13077</td>\n",
       "      <td>United Kingdom</td>\n",
       "      <td>15.75</td>\n",
       "    </tr>\n",
       "    <tr>\n",
       "      <th>397330</th>\n",
       "      <td>540300</td>\n",
       "      <td>581476</td>\n",
       "      <td>23167</td>\n",
       "      <td>2011</td>\n",
       "      <td>12</td>\n",
       "      <td>5</td>\n",
       "      <td>8</td>\n",
       "      <td>small ceramic top storage jar</td>\n",
       "      <td>96</td>\n",
       "      <td>2011-12-09 08:48:00</td>\n",
       "      <td>0.69</td>\n",
       "      <td>12433</td>\n",
       "      <td>Norway</td>\n",
       "      <td>66.24</td>\n",
       "    </tr>\n",
       "    <tr>\n",
       "      <th>397336</th>\n",
       "      <td>540306</td>\n",
       "      <td>581476</td>\n",
       "      <td>22998</td>\n",
       "      <td>2011</td>\n",
       "      <td>12</td>\n",
       "      <td>5</td>\n",
       "      <td>8</td>\n",
       "      <td>travel card wallet keep calm</td>\n",
       "      <td>72</td>\n",
       "      <td>2011-12-09 08:48:00</td>\n",
       "      <td>0.42</td>\n",
       "      <td>12433</td>\n",
       "      <td>Norway</td>\n",
       "      <td>30.24</td>\n",
       "    </tr>\n",
       "    <tr>\n",
       "      <th>397344</th>\n",
       "      <td>540314</td>\n",
       "      <td>581476</td>\n",
       "      <td>22693</td>\n",
       "      <td>2011</td>\n",
       "      <td>12</td>\n",
       "      <td>5</td>\n",
       "      <td>8</td>\n",
       "      <td>grow a flytrap or sunflower in tin</td>\n",
       "      <td>192</td>\n",
       "      <td>2011-12-09 08:48:00</td>\n",
       "      <td>1.06</td>\n",
       "      <td>12433</td>\n",
       "      <td>Norway</td>\n",
       "      <td>203.52</td>\n",
       "    </tr>\n",
       "    <tr>\n",
       "      <th>397351</th>\n",
       "      <td>540321</td>\n",
       "      <td>581476</td>\n",
       "      <td>22197</td>\n",
       "      <td>2011</td>\n",
       "      <td>12</td>\n",
       "      <td>5</td>\n",
       "      <td>8</td>\n",
       "      <td>popcorn holder</td>\n",
       "      <td>100</td>\n",
       "      <td>2011-12-09 08:48:00</td>\n",
       "      <td>0.72</td>\n",
       "      <td>12433</td>\n",
       "      <td>Norway</td>\n",
       "      <td>72.00</td>\n",
       "    </tr>\n",
       "    <tr>\n",
       "      <th>397371</th>\n",
       "      <td>540341</td>\n",
       "      <td>581476</td>\n",
       "      <td>16014</td>\n",
       "      <td>2011</td>\n",
       "      <td>12</td>\n",
       "      <td>5</td>\n",
       "      <td>8</td>\n",
       "      <td>small chinese style scissor</td>\n",
       "      <td>60</td>\n",
       "      <td>2011-12-09 08:48:00</td>\n",
       "      <td>0.42</td>\n",
       "      <td>12433</td>\n",
       "      <td>Norway</td>\n",
       "      <td>25.20</td>\n",
       "    </tr>\n",
       "    <tr>\n",
       "      <th>397372</th>\n",
       "      <td>540342</td>\n",
       "      <td>581476</td>\n",
       "      <td>16008</td>\n",
       "      <td>2011</td>\n",
       "      <td>12</td>\n",
       "      <td>5</td>\n",
       "      <td>8</td>\n",
       "      <td>small folding scissor(pointed edge)</td>\n",
       "      <td>240</td>\n",
       "      <td>2011-12-09 08:48:00</td>\n",
       "      <td>0.12</td>\n",
       "      <td>12433</td>\n",
       "      <td>Norway</td>\n",
       "      <td>28.80</td>\n",
       "    </tr>\n",
       "    <tr>\n",
       "      <th>397380</th>\n",
       "      <td>540350</td>\n",
       "      <td>581476</td>\n",
       "      <td>72232</td>\n",
       "      <td>2011</td>\n",
       "      <td>12</td>\n",
       "      <td>5</td>\n",
       "      <td>8</td>\n",
       "      <td>feng shui pillar candle</td>\n",
       "      <td>144</td>\n",
       "      <td>2011-12-09 08:48:00</td>\n",
       "      <td>0.19</td>\n",
       "      <td>12433</td>\n",
       "      <td>Norway</td>\n",
       "      <td>27.36</td>\n",
       "    </tr>\n",
       "    <tr>\n",
       "      <th>397448</th>\n",
       "      <td>540418</td>\n",
       "      <td>581482</td>\n",
       "      <td>23251</td>\n",
       "      <td>2011</td>\n",
       "      <td>12</td>\n",
       "      <td>5</td>\n",
       "      <td>9</td>\n",
       "      <td>vintage red enamel trim mug</td>\n",
       "      <td>96</td>\n",
       "      <td>2011-12-09 09:08:00</td>\n",
       "      <td>1.04</td>\n",
       "      <td>17490</td>\n",
       "      <td>United Kingdom</td>\n",
       "      <td>99.84</td>\n",
       "    </tr>\n",
       "    <tr>\n",
       "      <th>397451</th>\n",
       "      <td>540421</td>\n",
       "      <td>581483</td>\n",
       "      <td>23843</td>\n",
       "      <td>2011</td>\n",
       "      <td>12</td>\n",
       "      <td>5</td>\n",
       "      <td>9</td>\n",
       "      <td>paper craft , little birdie</td>\n",
       "      <td>80995</td>\n",
       "      <td>2011-12-09 09:15:00</td>\n",
       "      <td>2.08</td>\n",
       "      <td>16446</td>\n",
       "      <td>United Kingdom</td>\n",
       "      <td>168469.60</td>\n",
       "    </tr>\n",
       "    <tr>\n",
       "      <th>397454</th>\n",
       "      <td>540425</td>\n",
       "      <td>581485</td>\n",
       "      <td>20749</td>\n",
       "      <td>2011</td>\n",
       "      <td>12</td>\n",
       "      <td>5</td>\n",
       "      <td>9</td>\n",
       "      <td>assorted colour mini cases</td>\n",
       "      <td>84</td>\n",
       "      <td>2011-12-09 09:38:00</td>\n",
       "      <td>6.35</td>\n",
       "      <td>17389</td>\n",
       "      <td>United Kingdom</td>\n",
       "      <td>533.40</td>\n",
       "    </tr>\n",
       "    <tr>\n",
       "      <th>397471</th>\n",
       "      <td>540442</td>\n",
       "      <td>581487</td>\n",
       "      <td>21137</td>\n",
       "      <td>2011</td>\n",
       "      <td>12</td>\n",
       "      <td>5</td>\n",
       "      <td>9</td>\n",
       "      <td>black record cover frame</td>\n",
       "      <td>120</td>\n",
       "      <td>2011-12-09 09:44:00</td>\n",
       "      <td>3.39</td>\n",
       "      <td>15694</td>\n",
       "      <td>United Kingdom</td>\n",
       "      <td>406.80</td>\n",
       "    </tr>\n",
       "    <tr>\n",
       "      <th>397563</th>\n",
       "      <td>541545</td>\n",
       "      <td>581501</td>\n",
       "      <td>22319</td>\n",
       "      <td>2011</td>\n",
       "      <td>12</td>\n",
       "      <td>5</td>\n",
       "      <td>10</td>\n",
       "      <td>hairclips forties fabric assorted</td>\n",
       "      <td>180</td>\n",
       "      <td>2011-12-09 10:46:00</td>\n",
       "      <td>0.19</td>\n",
       "      <td>12985</td>\n",
       "      <td>United Kingdom</td>\n",
       "      <td>34.20</td>\n",
       "    </tr>\n",
       "    <tr>\n",
       "      <th>397572</th>\n",
       "      <td>541554</td>\n",
       "      <td>581501</td>\n",
       "      <td>22544</td>\n",
       "      <td>2011</td>\n",
       "      <td>12</td>\n",
       "      <td>5</td>\n",
       "      <td>10</td>\n",
       "      <td>mini jigsaw spaceboy</td>\n",
       "      <td>96</td>\n",
       "      <td>2011-12-09 10:46:00</td>\n",
       "      <td>0.19</td>\n",
       "      <td>12985</td>\n",
       "      <td>United Kingdom</td>\n",
       "      <td>18.24</td>\n",
       "    </tr>\n",
       "    <tr>\n",
       "      <th>397586</th>\n",
       "      <td>541568</td>\n",
       "      <td>581501</td>\n",
       "      <td>22545</td>\n",
       "      <td>2011</td>\n",
       "      <td>12</td>\n",
       "      <td>5</td>\n",
       "      <td>10</td>\n",
       "      <td>mini jigsaw bunnies</td>\n",
       "      <td>96</td>\n",
       "      <td>2011-12-09 10:46:00</td>\n",
       "      <td>0.19</td>\n",
       "      <td>12985</td>\n",
       "      <td>United Kingdom</td>\n",
       "      <td>18.24</td>\n",
       "    </tr>\n",
       "    <tr>\n",
       "      <th>397622</th>\n",
       "      <td>541604</td>\n",
       "      <td>581514</td>\n",
       "      <td>17091J</td>\n",
       "      <td>2011</td>\n",
       "      <td>12</td>\n",
       "      <td>5</td>\n",
       "      <td>11</td>\n",
       "      <td>vanilla incense in tin</td>\n",
       "      <td>66</td>\n",
       "      <td>2011-12-09 11:20:00</td>\n",
       "      <td>0.38</td>\n",
       "      <td>17754</td>\n",
       "      <td>United Kingdom</td>\n",
       "      <td>25.08</td>\n",
       "    </tr>\n",
       "    <tr>\n",
       "      <th>397630</th>\n",
       "      <td>541612</td>\n",
       "      <td>581514</td>\n",
       "      <td>21705</td>\n",
       "      <td>2011</td>\n",
       "      <td>12</td>\n",
       "      <td>5</td>\n",
       "      <td>11</td>\n",
       "      <td>bag 500g swirly marbles</td>\n",
       "      <td>84</td>\n",
       "      <td>2011-12-09 11:20:00</td>\n",
       "      <td>0.39</td>\n",
       "      <td>17754</td>\n",
       "      <td>United Kingdom</td>\n",
       "      <td>32.76</td>\n",
       "    </tr>\n",
       "    <tr>\n",
       "      <th>397720</th>\n",
       "      <td>541702</td>\n",
       "      <td>581566</td>\n",
       "      <td>23404</td>\n",
       "      <td>2011</td>\n",
       "      <td>12</td>\n",
       "      <td>5</td>\n",
       "      <td>11</td>\n",
       "      <td>home sweet home blackboard</td>\n",
       "      <td>144</td>\n",
       "      <td>2011-12-09 11:50:00</td>\n",
       "      <td>3.26</td>\n",
       "      <td>18102</td>\n",
       "      <td>United Kingdom</td>\n",
       "      <td>469.44</td>\n",
       "    </tr>\n",
       "    <tr>\n",
       "      <th>397721</th>\n",
       "      <td>541703</td>\n",
       "      <td>581567</td>\n",
       "      <td>21417</td>\n",
       "      <td>2011</td>\n",
       "      <td>12</td>\n",
       "      <td>5</td>\n",
       "      <td>11</td>\n",
       "      <td>cockle shell dish</td>\n",
       "      <td>84</td>\n",
       "      <td>2011-12-09 11:56:00</td>\n",
       "      <td>0.79</td>\n",
       "      <td>16626</td>\n",
       "      <td>United Kingdom</td>\n",
       "      <td>66.36</td>\n",
       "    </tr>\n",
       "    <tr>\n",
       "      <th>397729</th>\n",
       "      <td>541711</td>\n",
       "      <td>581567</td>\n",
       "      <td>21326</td>\n",
       "      <td>2011</td>\n",
       "      <td>12</td>\n",
       "      <td>5</td>\n",
       "      <td>11</td>\n",
       "      <td>aged glass silver t-light holder</td>\n",
       "      <td>144</td>\n",
       "      <td>2011-12-09 11:56:00</td>\n",
       "      <td>0.55</td>\n",
       "      <td>16626</td>\n",
       "      <td>United Kingdom</td>\n",
       "      <td>79.20</td>\n",
       "    </tr>\n",
       "    <tr>\n",
       "      <th>397761</th>\n",
       "      <td>541746</td>\n",
       "      <td>581571</td>\n",
       "      <td>23167</td>\n",
       "      <td>2011</td>\n",
       "      <td>12</td>\n",
       "      <td>5</td>\n",
       "      <td>12</td>\n",
       "      <td>small ceramic top storage jar</td>\n",
       "      <td>96</td>\n",
       "      <td>2011-12-09 12:00:00</td>\n",
       "      <td>0.69</td>\n",
       "      <td>15311</td>\n",
       "      <td>United Kingdom</td>\n",
       "      <td>66.24</td>\n",
       "    </tr>\n",
       "    <tr>\n",
       "      <th>397882</th>\n",
       "      <td>541867</td>\n",
       "      <td>581584</td>\n",
       "      <td>20832</td>\n",
       "      <td>2011</td>\n",
       "      <td>12</td>\n",
       "      <td>5</td>\n",
       "      <td>12</td>\n",
       "      <td>red flock love heart photo frame</td>\n",
       "      <td>72</td>\n",
       "      <td>2011-12-09 12:25:00</td>\n",
       "      <td>0.72</td>\n",
       "      <td>13777</td>\n",
       "      <td>United Kingdom</td>\n",
       "      <td>51.84</td>\n",
       "    </tr>\n",
       "  </tbody>\n",
       "</table>\n",
       "<p>11609 rows × 14 columns</p>\n",
       "</div>"
      ],
      "text/plain": [
       "        Unnamed: 0  InvoiceNo StockCode  year  month  day  hour  \\\n",
       "46              46     536371     22086  2010     12    3     9   \n",
       "83              83     536376     21733  2010     12    3     9   \n",
       "96              96     536378     21212  2010     12    3     9   \n",
       "102            102     536378    85071B  2010     12    3     9   \n",
       "174            176     536386    85099C  2010     12    3     9   \n",
       "175            177     536386    85099B  2010     12    3     9   \n",
       "176            178     536387     79321  2010     12    3     9   \n",
       "177            179     536387     22780  2010     12    3     9   \n",
       "178            180     536387     22779  2010     12    3     9   \n",
       "179            181     536387     22466  2010     12    3     9   \n",
       "180            182     536387     21731  2010     12    3     9   \n",
       "215            217     536390    84970S  2010     12    3    10   \n",
       "217            219     536390     20668  2010     12    3    10   \n",
       "218            220     536390    85123A  2010     12    3    10   \n",
       "219            221     536390     22197  2010     12    3    10   \n",
       "222            224     536390     21080  2010     12    3    10   \n",
       "223            225     536390     21094  2010     12    3    10   \n",
       "225            227     536390     21786  2010     12    3    10   \n",
       "231            233     536390     22969  2010     12    3    10   \n",
       "232            234     536390    85099B  2010     12    3    10   \n",
       "245            254     536394     22633  2010     12    3    10   \n",
       "246            255     536394     22866  2010     12    3    10   \n",
       "247            256     536394     22865  2010     12    3    10   \n",
       "248            257     536394     22632  2010     12    3    10   \n",
       "376            385     536403     22867  2010     12    3    11   \n",
       "406            415     536405     20914  2010     12    3    11   \n",
       "673            683     536416     21915  2010     12    3    11   \n",
       "718            728     536437     21154  2010     12    3    12   \n",
       "719            729     536437     22189  2010     12    3    12   \n",
       "720            730     536437     17021  2010     12    3    12   \n",
       "...            ...        ...       ...   ...    ...  ...   ...   \n",
       "397113      540064     581457     23542  2011     12    4    18   \n",
       "397114      540065     581457     23531  2011     12    4    18   \n",
       "397115      540066     581457     23535  2011     12    4    18   \n",
       "397116      540067     581457     23530  2011     12    4    18   \n",
       "397117      540068     581457     23526  2011     12    4    18   \n",
       "397118      540069     581457     23401  2011     12    4    18   \n",
       "397119      540070     581458     22197  2011     12    4    18   \n",
       "397120      540071     581459     22197  2011     12    4    18   \n",
       "397155      540122     581467     21167  2011     12    4    19   \n",
       "397330      540300     581476     23167  2011     12    5     8   \n",
       "397336      540306     581476     22998  2011     12    5     8   \n",
       "397344      540314     581476     22693  2011     12    5     8   \n",
       "397351      540321     581476     22197  2011     12    5     8   \n",
       "397371      540341     581476     16014  2011     12    5     8   \n",
       "397372      540342     581476     16008  2011     12    5     8   \n",
       "397380      540350     581476     72232  2011     12    5     8   \n",
       "397448      540418     581482     23251  2011     12    5     9   \n",
       "397451      540421     581483     23843  2011     12    5     9   \n",
       "397454      540425     581485     20749  2011     12    5     9   \n",
       "397471      540442     581487     21137  2011     12    5     9   \n",
       "397563      541545     581501     22319  2011     12    5    10   \n",
       "397572      541554     581501     22544  2011     12    5    10   \n",
       "397586      541568     581501     22545  2011     12    5    10   \n",
       "397622      541604     581514    17091J  2011     12    5    11   \n",
       "397630      541612     581514     21705  2011     12    5    11   \n",
       "397720      541702     581566     23404  2011     12    5    11   \n",
       "397721      541703     581567     21417  2011     12    5    11   \n",
       "397729      541711     581567     21326  2011     12    5    11   \n",
       "397761      541746     581571     23167  2011     12    5    12   \n",
       "397882      541867     581584     20832  2011     12    5    12   \n",
       "\n",
       "                                Description  Quantity          InvoiceDate  \\\n",
       "46          paper chain kit 50's christmas         80  2010-12-01 09:00:00   \n",
       "83         red hanging heart t-light holder        64  2010-12-01 09:32:00   \n",
       "96          pack of 72 retrospot cake cases       120  2010-12-01 09:37:00   \n",
       "102      red charlie+lola personal doorsign        96  2010-12-01 09:37:00   \n",
       "174          jumbo  bag baroque black white       100  2010-12-01 09:57:00   \n",
       "175                 jumbo bag red retrospot       100  2010-12-01 09:57:00   \n",
       "176                           chilli lights       192  2010-12-01 09:58:00   \n",
       "177          light garland butterfiles pink       192  2010-12-01 09:58:00   \n",
       "178              wooden owls light garland        192  2010-12-01 09:58:00   \n",
       "179           fairy tale cottage nightlight       432  2010-12-01 09:58:00   \n",
       "180           red toadstool led night light       432  2010-12-01 09:58:00   \n",
       "215       hanging heart zinc t-light holder       144  2010-12-01 10:19:00   \n",
       "217         disco ball christmas decoration       288  2010-12-01 10:19:00   \n",
       "218      white hanging heart t-light holder        64  2010-12-01 10:19:00   \n",
       "219                    small popcorn holder       100  2010-12-01 10:19:00   \n",
       "222     set/20 red retrospot paper napkins         96  2010-12-01 10:19:00   \n",
       "223           set/6 red spotty paper plates        96  2010-12-01 10:19:00   \n",
       "225                      polkadot rain hat        144  2010-12-01 10:19:00   \n",
       "231            homemade jam scented candles        96  2010-12-01 10:19:00   \n",
       "232                 jumbo bag red retrospot       100  2010-12-01 10:19:00   \n",
       "245                  hand warmer union jack        96  2010-12-01 10:39:00   \n",
       "246           hand warmer scotty dog design        96  2010-12-01 10:39:00   \n",
       "247                  hand warmer owl design        96  2010-12-01 10:39:00   \n",
       "248               hand warmer red retrospot        96  2010-12-01 10:39:00   \n",
       "376                 hand warmer bird design        96  2010-12-01 11:27:00   \n",
       "406     set/5 red retrospot lid glass bowls       128  2010-12-01 11:32:00   \n",
       "673                  red  harmonica in box         72  2010-12-01 11:58:00   \n",
       "718               red retrospot oven glove        200  2010-12-01 12:12:00   \n",
       "719                 cream heart card holder        72  2010-12-01 12:12:00   \n",
       "720                  namaste swagat incense       600  2010-12-01 12:12:00   \n",
       "...                                     ...       ...                  ...   \n",
       "397113              wall art 70's alphabet        120  2011-12-08 18:43:00   \n",
       "397114                   wall art big love        120  2011-12-08 18:43:00   \n",
       "397115              wall art bicycle safety       126  2011-12-08 18:43:00   \n",
       "397116            wall art only one person        126  2011-12-08 18:43:00   \n",
       "397117                wall art dog licence        126  2011-12-08 18:43:00   \n",
       "397118        rustic mirror with lace heart       126  2011-12-08 18:43:00   \n",
       "397119                       popcorn holder      1500  2011-12-08 18:45:00   \n",
       "397120                       popcorn holder      1200  2011-12-08 18:46:00   \n",
       "397155                   white sage incense        75  2011-12-08 19:24:00   \n",
       "397330       small ceramic top storage jar         96  2011-12-09 08:48:00   \n",
       "397336         travel card wallet keep calm        72  2011-12-09 08:48:00   \n",
       "397344   grow a flytrap or sunflower in tin       192  2011-12-09 08:48:00   \n",
       "397351                       popcorn holder       100  2011-12-09 08:48:00   \n",
       "397371          small chinese style scissor        60  2011-12-09 08:48:00   \n",
       "397372  small folding scissor(pointed edge)       240  2011-12-09 08:48:00   \n",
       "397380              feng shui pillar candle       144  2011-12-09 08:48:00   \n",
       "397448         vintage red enamel trim mug         96  2011-12-09 09:08:00   \n",
       "397451          paper craft , little birdie     80995  2011-12-09 09:15:00   \n",
       "397454           assorted colour mini cases        84  2011-12-09 09:38:00   \n",
       "397471             black record cover frame       120  2011-12-09 09:44:00   \n",
       "397563    hairclips forties fabric assorted       180  2011-12-09 10:46:00   \n",
       "397572                 mini jigsaw spaceboy        96  2011-12-09 10:46:00   \n",
       "397586                  mini jigsaw bunnies        96  2011-12-09 10:46:00   \n",
       "397622               vanilla incense in tin        66  2011-12-09 11:20:00   \n",
       "397630              bag 500g swirly marbles        84  2011-12-09 11:20:00   \n",
       "397720           home sweet home blackboard       144  2011-12-09 11:50:00   \n",
       "397721                    cockle shell dish        84  2011-12-09 11:56:00   \n",
       "397729     aged glass silver t-light holder       144  2011-12-09 11:56:00   \n",
       "397761       small ceramic top storage jar         96  2011-12-09 12:00:00   \n",
       "397882     red flock love heart photo frame        72  2011-12-09 12:25:00   \n",
       "\n",
       "        UnitPrice  CustomerID         Country  amount_spent  \n",
       "46           2.55       13748  United Kingdom        204.00  \n",
       "83           2.55       15291  United Kingdom        163.20  \n",
       "96           0.42       14688  United Kingdom         50.40  \n",
       "102          0.38       14688  United Kingdom         36.48  \n",
       "174          1.65       16029  United Kingdom        165.00  \n",
       "175          1.65       16029  United Kingdom        165.00  \n",
       "176          3.82       16029  United Kingdom        733.44  \n",
       "177          3.37       16029  United Kingdom        647.04  \n",
       "178          3.37       16029  United Kingdom        647.04  \n",
       "179          1.45       16029  United Kingdom        626.40  \n",
       "180          1.25       16029  United Kingdom        540.00  \n",
       "215          0.64       17511  United Kingdom         92.16  \n",
       "217          0.10       17511  United Kingdom         28.80  \n",
       "218          2.55       17511  United Kingdom        163.20  \n",
       "219          0.72       17511  United Kingdom         72.00  \n",
       "222          0.64       17511  United Kingdom         61.44  \n",
       "223          0.64       17511  United Kingdom         61.44  \n",
       "225          0.32       17511  United Kingdom         46.08  \n",
       "231          1.25       17511  United Kingdom        120.00  \n",
       "232          1.65       17511  United Kingdom        165.00  \n",
       "245          1.85       13408  United Kingdom        177.60  \n",
       "246          1.85       13408  United Kingdom        177.60  \n",
       "247          1.85       13408  United Kingdom        177.60  \n",
       "248          1.85       13408  United Kingdom        177.60  \n",
       "376          1.85       12791     Netherlands        177.60  \n",
       "406          2.55       14045  United Kingdom        326.40  \n",
       "673          1.25       13255  United Kingdom         90.00  \n",
       "718          1.06       13694  United Kingdom        212.00  \n",
       "719          3.39       13694  United Kingdom        244.08  \n",
       "720          0.24       13694  United Kingdom        144.00  \n",
       "...           ...         ...             ...           ...  \n",
       "397113       6.67       18102  United Kingdom        800.40  \n",
       "397114       4.76       18102  United Kingdom        571.20  \n",
       "397115       3.90       18102  United Kingdom        491.40  \n",
       "397116       3.57       18102  United Kingdom        449.82  \n",
       "397117       3.90       18102  United Kingdom        491.40  \n",
       "397118       4.15       18102  United Kingdom        522.90  \n",
       "397119       0.72       17949  United Kingdom       1080.00  \n",
       "397120       0.72       17949  United Kingdom        864.00  \n",
       "397155       0.21       13077  United Kingdom         15.75  \n",
       "397330       0.69       12433          Norway         66.24  \n",
       "397336       0.42       12433          Norway         30.24  \n",
       "397344       1.06       12433          Norway        203.52  \n",
       "397351       0.72       12433          Norway         72.00  \n",
       "397371       0.42       12433          Norway         25.20  \n",
       "397372       0.12       12433          Norway         28.80  \n",
       "397380       0.19       12433          Norway         27.36  \n",
       "397448       1.04       17490  United Kingdom         99.84  \n",
       "397451       2.08       16446  United Kingdom     168469.60  \n",
       "397454       6.35       17389  United Kingdom        533.40  \n",
       "397471       3.39       15694  United Kingdom        406.80  \n",
       "397563       0.19       12985  United Kingdom         34.20  \n",
       "397572       0.19       12985  United Kingdom         18.24  \n",
       "397586       0.19       12985  United Kingdom         18.24  \n",
       "397622       0.38       17754  United Kingdom         25.08  \n",
       "397630       0.39       17754  United Kingdom         32.76  \n",
       "397720       3.26       18102  United Kingdom        469.44  \n",
       "397721       0.79       16626  United Kingdom         66.36  \n",
       "397729       0.55       16626  United Kingdom         79.20  \n",
       "397761       0.69       15311  United Kingdom         66.24  \n",
       "397882       0.72       13777  United Kingdom         51.84  \n",
       "\n",
       "[11609 rows x 14 columns]"
      ]
     },
     "execution_count": 32,
     "metadata": {},
     "output_type": "execute_result"
    }
   ],
   "source": [
    "df[df.Quantity>50]"
   ]
  },
  {
   "cell_type": "markdown",
   "metadata": {},
   "source": [
    "#### Select orders from Spain that are above 50 items"
   ]
  },
  {
   "cell_type": "code",
   "execution_count": null,
   "metadata": {
    "collapsed": true
   },
   "outputs": [],
   "source": [
    "# your answer here"
   ]
  },
  {
   "cell_type": "markdown",
   "metadata": {},
   "source": [
    "#### Select all free orders"
   ]
  },
  {
   "cell_type": "code",
   "execution_count": null,
   "metadata": {
    "collapsed": true
   },
   "outputs": [],
   "source": [
    "# your answer here"
   ]
  },
  {
   "cell_type": "markdown",
   "metadata": {},
   "source": [
    "#### Select all orders that are 'lunch bag'\n",
    "#### Hint: Use string functions"
   ]
  },
  {
   "cell_type": "code",
   "execution_count": null,
   "metadata": {
    "collapsed": true
   },
   "outputs": [],
   "source": [
    "# your answer here"
   ]
  },
  {
   "cell_type": "markdown",
   "metadata": {},
   "source": [
    "#### Select all orders that are made in 2011 and are 'lunch bag'  "
   ]
  },
  {
   "cell_type": "code",
   "execution_count": null,
   "metadata": {
    "collapsed": true
   },
   "outputs": [],
   "source": [
    "# your answer here"
   ]
  },
  {
   "cell_type": "markdown",
   "metadata": {},
   "source": [
    "#### Show the frequency distribution of the amount spent in Spain."
   ]
  },
  {
   "cell_type": "code",
   "execution_count": null,
   "metadata": {
    "collapsed": true
   },
   "outputs": [],
   "source": [
    "# your answer here"
   ]
  },
  {
   "cell_type": "markdown",
   "metadata": {},
   "source": [
    "#### Select all orders made in the month of August"
   ]
  },
  {
   "cell_type": "code",
   "execution_count": null,
   "metadata": {
    "collapsed": true
   },
   "outputs": [],
   "source": [
    "# your answer here"
   ]
  },
  {
   "cell_type": "markdown",
   "metadata": {},
   "source": [
    "#### Select how many orders are made by countries in the month of August\n",
    "##### Hint: Use value_counts()"
   ]
  },
  {
   "cell_type": "code",
   "execution_count": null,
   "metadata": {
    "collapsed": true
   },
   "outputs": [],
   "source": [
    "# your answer here"
   ]
  },
  {
   "cell_type": "markdown",
   "metadata": {},
   "source": [
    "#### What's the  average amount of money spent by country"
   ]
  },
  {
   "cell_type": "code",
   "execution_count": null,
   "metadata": {
    "collapsed": true
   },
   "outputs": [],
   "source": [
    "# your answer here"
   ]
  },
  {
   "cell_type": "markdown",
   "metadata": {},
   "source": [
    "#### What's the most expensive item?"
   ]
  },
  {
   "cell_type": "code",
   "execution_count": null,
   "metadata": {
    "collapsed": true
   },
   "outputs": [],
   "source": [
    "# your answer here"
   ]
  },
  {
   "cell_type": "markdown",
   "metadata": {},
   "source": [
    "#### What was the average amount spent per year ?"
   ]
  },
  {
   "cell_type": "code",
   "execution_count": null,
   "metadata": {
    "collapsed": true
   },
   "outputs": [],
   "source": [
    "# your answer here"
   ]
  }
 ],
 "metadata": {
  "anaconda-cloud": {},
  "kernelspec": {
   "display_name": "Python 3",
   "language": "python",
   "name": "python3"
  },
  "language_info": {
   "codemirror_mode": {
    "name": "ipython",
    "version": 3
   },
   "file_extension": ".py",
   "mimetype": "text/x-python",
   "name": "python",
   "nbconvert_exporter": "python",
   "pygments_lexer": "ipython3",
   "version": "3.7.3"
  }
 },
 "nbformat": 4,
 "nbformat_minor": 1
}
